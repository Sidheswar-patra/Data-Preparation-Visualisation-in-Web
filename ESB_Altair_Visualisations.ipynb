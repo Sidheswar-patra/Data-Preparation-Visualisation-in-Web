{
 "cells": [
  {
   "cell_type": "code",
   "execution_count": null,
   "metadata": {},
   "outputs": [],
   "source": [
    "import pandas as pd\n",
    "import altair as alt\n",
    "alt.renderers.enable(\"notebook\")"
   ]
  },
  {
   "cell_type": "markdown",
   "metadata": {},
   "source": [
    "### Extracting the data from Esb_Council.csv to analyse the data through visualisations."
   ]
  },
  {
   "cell_type": "code",
   "execution_count": null,
   "metadata": {},
   "outputs": [],
   "source": [
    "Esb_Council = pd.read_csv(\"../Esb_Data.csv\")"
   ]
  },
  {
   "cell_type": "code",
   "execution_count": null,
   "metadata": {
    "scrolled": true
   },
   "outputs": [],
   "source": [
    "Esb_Council"
   ]
  },
  {
   "cell_type": "markdown",
   "metadata": {},
   "source": [
    "### Let's see the proportion of Esb connections bought in cities and counties in all these years categorising them monthly."
   ]
  },
  {
   "cell_type": "code",
   "execution_count": null,
   "metadata": {
    "scrolled": false
   },
   "outputs": [],
   "source": [
    "alt.Chart(Esb_Council).mark_bar().encode(\n",
    "    x = \"Month:O\",\n",
    "    y = alt.Y(\n",
    "        \"sum(No_Of_Connections):Q\",\n",
    "        title = \"Total No of Connections\",\n",
    "        ),    \n",
    "    color = \"Type\"\n",
    "    ).facet(column=\"Year:O\").properties(\n",
    "    title = \"Number of Esb Connections by month for each year\",\n",
    "    background = \"white\",\n",
    ")"
   ]
  },
  {
   "cell_type": "markdown",
   "metadata": {},
   "source": [
    "### Through the above visualisation, we can see that counties have used most Esb connections. Moreover, the amount of Esb connections has decreased gradually from 2006 to 2013. Furthermore, we can observe that in most of the years November has the highest number of Esb connections among the months."
   ]
  },
  {
   "cell_type": "markdown",
   "metadata": {},
   "source": [
    "### Now, Let's see which city or county has highest connections in each year."
   ]
  },
  {
   "cell_type": "code",
   "execution_count": null,
   "metadata": {},
   "outputs": [],
   "source": [
    "alt.Chart(Esb_Council, title = \"Esb connections for all place\").mark_bar().encode(\n",
    "    column='Year:O',\n",
    "    y='Council:N',\n",
    "    x='sum(No_Of_Connections):Q',\n",
    "    color='Type:N',\n",
    "    tooltip = [\"Council:N\"]\n",
    ").properties(width=220 , background = \"white\")"
   ]
  },
  {
   "cell_type": "markdown",
   "metadata": {},
   "source": [
    "### We can observe that Cork(which is considered as city and county) had the highest number of Esb connections among all the cities and counties in all years. Dublin city had the second-highest number of Esb connections in all the years."
   ]
  },
  {
   "cell_type": "markdown",
   "metadata": {},
   "source": [
    "### Now let's see the variation of the total number of connections year-wise."
   ]
  },
  {
   "cell_type": "code",
   "execution_count": null,
   "metadata": {},
   "outputs": [],
   "source": [
    "alt.Chart(Esb_Council, title=\"Esb connection progress yearwise\").mark_area(point=True).encode(\n",
    "    column = 'Type:N',\n",
    "    y=alt.X('sum(No_Of_Connections):Q',title = \"Total No of Connections\", scale=alt.Scale(domain=(0, 100000))),\n",
    "    x='Year:N',\n",
    "    color='Year:N',\n",
    ").properties(width=400, background = \"white\")"
   ]
  },
  {
   "cell_type": "markdown",
   "metadata": {},
   "source": [
    "### We can see that the number of connections has decreased continuously from 2006 to 2013 in both counties and cities. Moreover, we can observe that there is a drastic fall in Esb connections in counties."
   ]
  },
  {
   "cell_type": "markdown",
   "metadata": {},
   "source": [
    "### Now let's see a comparison between aggregate number of connection in cities verses counties for each year."
   ]
  },
  {
   "cell_type": "code",
   "execution_count": null,
   "metadata": {
    "scrolled": false
   },
   "outputs": [],
   "source": [
    "alt.Chart(Esb_Council, title = \"Comparison of total connections between cities and counties\").mark_bar().encode(\n",
    "    column='Year:O',\n",
    "    x='Type:N',\n",
    "    y='sum(No_Of_Connections):Q',\n",
    "    color='Type:N',\n",
    "    tooltip = [\"sum(No_Of_Connections):Q\"]\n",
    ").properties(width=220, background = \"white\")\n"
   ]
  },
  {
   "cell_type": "markdown",
   "metadata": {},
   "source": [
    "### From the above visualisation, we can see that around 80000 Esb connections were bought in all the counties for the year 2006 whereas around 12000 for all the cities. Since there are 29 counties in total and only 5 cities, so there are fewer overall Esb connections in cities."
   ]
  },
  {
   "cell_type": "markdown",
   "metadata": {},
   "source": [
    "### Now Let's see the progress of Carlow in these years regarding Esb Connections."
   ]
  },
  {
   "cell_type": "code",
   "execution_count": null,
   "metadata": {},
   "outputs": [],
   "source": [
    "alt.Chart(Esb_Council, title=\"ESB Connections for Carlow during these years\").mark_area().encode(\n",
    "    x=alt.X(\n",
    "        \"Year:N\",\n",
    "        title=\"Year\"\n",
    "    ),\n",
    "    y=alt.Y(\n",
    "        \"sum(No_Of_Connections):Q\", title = \"Total No of Connections\",\n",
    "        \n",
    "    ),\n",
    "    color=alt.Color(\n",
    "        \"Council:N\",\n",
    "        legend=alt.Legend(title=\"Council Name\"),\n",
    "    )\n",
    ").transform_filter(\n",
    "    (alt.datum.Council == \"Carlow\")).properties(width=600, background = \"white\")"
   ]
  },
  {
   "cell_type": "markdown",
   "metadata": {},
   "source": [
    "###  We can see that there is a steady decline in Esb connections from 2006-2012, this may have caused due to the recession which happened in between that period. From 2012 to 2013 however, the Esb connections have increased."
   ]
  },
  {
   "cell_type": "markdown",
   "metadata": {},
   "source": [
    "### Now let's see the flow of average number of Esb connections in places which is considered as a city and county both in these years through interactive visualisation where we can individually select a city."
   ]
  },
  {
   "cell_type": "code",
   "execution_count": null,
   "metadata": {},
   "outputs": [],
   "source": [
    "input_dropdown = alt.binding_select(options=['Cork','Limerick','Galway','Waterford'])\n",
    "selection = alt.selection_single(fields=['Council'], bind=input_dropdown, name='Name of')\n",
    "color = alt.condition(selection,\n",
    "                    alt.Color('Council:N', legend=None),\n",
    "                    alt.value('lightgray'))\n",
    "\n",
    "alt.Chart(Esb_Council).mark_area(line = True).encode(\n",
    "    x='Year:N',\n",
    "    y='mean(No_Of_Connections):Q',\n",
    "    color=color,\n",
    "  \n",
    ").add_selection(\n",
    "    selection\n",
    ").properties(width=400)"
   ]
  },
  {
   "cell_type": "markdown",
   "metadata": {},
   "source": [
    "### We can see that Cork has the highest average Esb connections, then Galway has second-highest, Limerick is in third place and Waterford has the least average Esb connections among the places which are considered as city and county. Furthermore, the graph also shows the steady decline of Esb connections from the year 2006-2013 overall."
   ]
  },
  {
   "cell_type": "markdown",
   "metadata": {},
   "source": [
    "### Now let's see the year-wise status of connection count for all cities through interactive visualisation."
   ]
  },
  {
   "cell_type": "code",
   "execution_count": null,
   "metadata": {},
   "outputs": [],
   "source": [
    "slider = alt.binding_range(min=2006, max=2013, step=1)\n",
    "select_year = alt.selection_single(name=\"Year\", fields=['Year'],\n",
    "                                   bind=slider, init={'Year': 2006})\n",
    "alt.Chart(Esb_Council, title=\"ESB Connections Comparison during these years\").mark_bar().encode(\n",
    "    alt.Y('sum(No_Of_Connections):Q',\n",
    "          scale=alt.Scale(domain=(0, 8000)),\n",
    "          axis=alt.Axis(title=\"Total Connection Count\", tickCount=20),\n",
    "        ),\n",
    "    alt.X('Council:N'),\n",
    "    alt.Color('Council:N'),\n",
    "    column = 'Type:O'\n",
    "    \n",
    ").properties(width=400).add_selection(\n",
    "    select_year\n",
    ").transform_filter(\n",
    "    select_year ).configure_facet(\n",
    "    spacing=10\n",
    ")"
   ]
  },
  {
   "cell_type": "markdown",
   "metadata": {},
   "source": [
    "### We can see that the Counties have the most number of Esb connections throughout the period. However, there is a significant decrease in connection count from 2006-2009 and after that, the graph is mostly linear for counties which depict there are less number of houses built after 2009 compared to 2006-2008."
   ]
  },
  {
   "cell_type": "markdown",
   "metadata": {},
   "source": [
    "## Conclusion"
   ]
  },
  {
   "cell_type": "markdown",
   "metadata": {},
   "source": [
    "### 1- There is a significant decline in overall Esb connections from 2006-2013.\n",
    "### 2- Among the cities, Dublin had the highest Esb connections and among counties, Cork had highest Esb connections.\n",
    "### 3- In November month, the most number of Esb connections were purchased in all these years.\n",
    "### 4- From 2006-2013, the Esb connections have decreased from 11000 to 1000 for counties and 80000 to 7000 approximately for cities. "
   ]
  },
  {
   "cell_type": "markdown",
   "metadata": {},
   "source": [
    "## Please run the app.py file to view the dynamic visualisation. Thanks!"
   ]
  }
 ],
 "metadata": {
  "kernelspec": {
   "display_name": "Python 3",
   "language": "python",
   "name": "python3"
  },
  "language_info": {
   "codemirror_mode": {
    "name": "ipython",
    "version": 3
   },
   "file_extension": ".py",
   "mimetype": "text/x-python",
   "name": "python",
   "nbconvert_exporter": "python",
   "pygments_lexer": "ipython3",
   "version": "3.7.3"
  }
 },
 "nbformat": 4,
 "nbformat_minor": 2
}
